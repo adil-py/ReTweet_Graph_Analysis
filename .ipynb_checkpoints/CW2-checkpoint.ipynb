{
 "cells": [
  {
   "cell_type": "code",
   "execution_count": 52,
   "metadata": {
    "tags": []
   },
   "outputs": [],
   "source": [
    "import pandas as pd\n",
    "from pyvis.network import Network\n",
    "import networkx as nx\n",
    "import numpy as np\n",
    "import os\n",
    "import sys\n",
    "import matplotlib.pyplot as plt\n",
    "import math\n",
    "from datetime import datetime"
   ]
  },
  {
   "cell_type": "code",
   "execution_count": 26,
   "metadata": {
    "tags": []
   },
   "outputs": [],
   "source": [
    "current_dir = os.path.dirname(os.path.abspath(sys.argv[0]))"
   ]
  },
  {
   "cell_type": "markdown",
   "metadata": {},
   "source": [
    "Run only for Linux based systems"
   ]
  },
  {
   "cell_type": "code",
   "execution_count": 27,
   "metadata": {},
   "outputs": [],
   "source": [
    "import json\n",
    "\n",
    "with open('Retweet-JSON/#Bitcoin.json','r') as f:\n",
    "    bitcoin = json.load(f)\n",
    "\n",
    "with open('Retweet-JSON/#BoredApeYachtClub.json','r') as f:\n",
    "    boredApeYachtClub = json.load(f)\n",
    "\n",
    "with open('Retweet-JSON/#chatgpt.json','r') as f:\n",
    "    chatGPT = json.load(f)\n",
    "\n",
    "with open('Retweet-JSON/#energy.json','r') as f:\n",
    "    energy = json.load(f)\n",
    "\n",
    "with open('Retweet-JSON/#Eth.json','r') as f:\n",
    "    eth = json.load(f)\n",
    "\n",
    "with open('Retweet-JSON/#uranium.json','r') as f:\n",
    "    uranium = json.load(f)"
   ]
  },
  {
   "cell_type": "code",
   "execution_count": null,
   "metadata": {},
   "outputs": [],
   "source": [
    "Run only for Windows based systems"
   ]
  },
  {
   "cell_type": "code",
   "execution_count": 9,
   "metadata": {},
   "outputs": [
    {
     "ename": "FileNotFoundError",
     "evalue": "[Errno 2] No such file or directory: 'Retweet-JSON\\\\#BoredApeYachtClub.json'",
     "output_type": "error",
     "traceback": [
      "\u001b[0;31m---------------------------------------------------------------------------\u001b[0m",
      "\u001b[0;31mFileNotFoundError\u001b[0m                         Traceback (most recent call last)",
      "\u001b[0;32m<ipython-input-9-bea6d028a240>\u001b[0m in \u001b[0;36m<module>\u001b[0;34m\u001b[0m\n\u001b[1;32m      4\u001b[0m     \u001b[0mbitcoin\u001b[0m \u001b[0;34m=\u001b[0m \u001b[0mjson\u001b[0m\u001b[0;34m.\u001b[0m\u001b[0mload\u001b[0m\u001b[0;34m(\u001b[0m\u001b[0mf\u001b[0m\u001b[0;34m)\u001b[0m\u001b[0;34m\u001b[0m\u001b[0;34m\u001b[0m\u001b[0m\n\u001b[1;32m      5\u001b[0m \u001b[0;34m\u001b[0m\u001b[0m\n\u001b[0;32m----> 6\u001b[0;31m \u001b[0;32mwith\u001b[0m \u001b[0mopen\u001b[0m\u001b[0;34m(\u001b[0m\u001b[0;34m'Retweet-JSON\\#BoredApeYachtClub.json'\u001b[0m\u001b[0;34m,\u001b[0m\u001b[0;34m'r'\u001b[0m\u001b[0;34m)\u001b[0m \u001b[0;32mas\u001b[0m \u001b[0mf\u001b[0m\u001b[0;34m:\u001b[0m\u001b[0;34m\u001b[0m\u001b[0;34m\u001b[0m\u001b[0m\n\u001b[0m\u001b[1;32m      7\u001b[0m     \u001b[0mboredApeYachtClub\u001b[0m \u001b[0;34m=\u001b[0m \u001b[0mjson\u001b[0m\u001b[0;34m.\u001b[0m\u001b[0mload\u001b[0m\u001b[0;34m(\u001b[0m\u001b[0mf\u001b[0m\u001b[0;34m)\u001b[0m\u001b[0;34m\u001b[0m\u001b[0;34m\u001b[0m\u001b[0m\n\u001b[1;32m      8\u001b[0m \u001b[0;34m\u001b[0m\u001b[0m\n",
      "\u001b[0;31mFileNotFoundError\u001b[0m: [Errno 2] No such file or directory: 'Retweet-JSON\\\\#BoredApeYachtClub.json'"
     ]
    }
   ],
   "source": [
    "import json\n",
    "\n",
    "with open('Retweet-JSON\\#Bitcoin.json','r') as f:\n",
    "    bitcoin = json.load(f)\n",
    "\n",
    "with open('Retweet-JSON\\#BoredApeYachtClub.json','r') as f:\n",
    "    boredApeYachtClub = json.load(f)\n",
    "\n",
    "with open('Retweet-JSON\\#chatgpt.json','r') as f:\n",
    "    chatGPT = json.load(f)\n",
    "\n",
    "with open('Retweet-JSON\\#energy.json','r') as f:\n",
    "    energy = json.load(f)\n",
    "\n",
    "with open('Retweet-JSON\\#Eth.json','r') as f:\n",
    "    eth = json.load(f)\n",
    "\n",
    "with open('Retweet-JSON\\#uranium.json','r') as f:\n",
    "    uranium = json.load(f)"
   ]
  },
  {
   "cell_type": "code",
   "execution_count": 28,
   "metadata": {},
   "outputs": [],
   "source": [
    "def tweetcount(hashtag):\n",
    "    tweetcount = {}\n",
    "    for tweeta in hashtag:\n",
    "        if 'retweeted_status' in tweeta:\n",
    "            screen_name = tweeta['retweeted_status']['user']['screen_name']\n",
    "            tweet_text = tweeta['full_text']\n",
    "            \n",
    "            # Check if the screen name exists as a key and if the tweet is already in their list\n",
    "            if screen_name in tweetcount:\n",
    "                if tweet_text not in tweetcount[screen_name]:\n",
    "                    tweetcount[screen_name].append(tweet_text)\n",
    "            else:\n",
    "                # Initialize with the first tweet's text if the key doesn't exist\n",
    "                tweetcount[screen_name] = [tweet_text]\n",
    "    return tweetcount"
   ]
  },
  {
   "cell_type": "code",
   "execution_count": 29,
   "metadata": {},
   "outputs": [],
   "source": [
    "def retweetcount(hashtag):\n",
    "    retweetcount = {}\n",
    "\n",
    "    for tweets in hashtag:\n",
    "        if 'retweeted_status' in tweets:\n",
    "            screen_name = tweets['user']['screen_name']\n",
    "            tweet_text = tweets['full_text']\n",
    "            \n",
    "            # Check if the screen name exists as a key and if the tweet is already in their list\n",
    "            if screen_name in retweetcount:\n",
    "                if tweet_text not in retweetcount[screen_name]:\n",
    "                    retweetcount[screen_name].append(tweet_text)\n",
    "            else:\n",
    "                # Initialize with the first tweet's text if the key doesn't exist\n",
    "                retweetcount[screen_name] = [tweet_text]\n",
    "    return retweetcount"
   ]
  },
  {
   "cell_type": "code",
   "execution_count": 30,
   "metadata": {},
   "outputs": [],
   "source": [
    "m=[len(a) for a in retweetcount(chatGPT)]"
   ]
  },
  {
   "cell_type": "code",
   "execution_count": 31,
   "metadata": {},
   "outputs": [
    {
     "data": {
      "text/plain": [
       "15"
      ]
     },
     "execution_count": 31,
     "metadata": {},
     "output_type": "execute_result"
    }
   ],
   "source": [
    "max(m)"
   ]
  },
  {
   "cell_type": "code",
   "execution_count": 32,
   "metadata": {},
   "outputs": [],
   "source": [
    "def Networkplt(hashtag):\n",
    "\n",
    "    G = nx.DiGraph()\n",
    "    tc = tweetcount(hashtag)               # A dictionary with original tweeter's tweets\n",
    "    rtc = retweetcount(hashtag)            # A dictionary with retweeter's tweets \n",
    "    for tweet in hashtag:\n",
    "        retweeter_name = tweet['user']['screen_name']\n",
    "        retweeter_follower_c = tweet['user']['followers_count']\n",
    "        if 'retweeted_status' in tweet:\n",
    "            original_tweeter_name = tweet['retweeted_status']['user']['screen_name']\n",
    "            orignal_tweeter_follower_c = tweet['retweeted_status']['user']['followers_count']\n",
    "            if G.has_edge(original_tweeter_name,retweeter_name):\n",
    "                G.edges[original_tweeter_name,retweeter_name]['weight']+=1\n",
    "    \n",
    "            else:\n",
    "                G.add_node(retweeter_name,weight = retweeter_follower_c, value =int(math.log(len(rtc[retweeter_name]))), color = 'Blue')\n",
    "                G.add_node(original_tweeter_name, weight = orignal_tweeter_follower_c, value = int(math.log(len(tc[original_tweeter_name]))), color ='Red')\n",
    "                G.add_edge(original_tweeter_name,retweeter_name, weight = 1)\n",
    "        \n",
    "    G.remove_edges_from(nx.selfloop_edges(G))\n",
    "    #G = nx.k_core(G,2)\n",
    "    nt = Network(directed=nx.is_directed(G), notebook=True,height='800px', width='100%')\n",
    "    nt.from_nx(G)\n",
    "    #nt.show_buttons(filter_=['physics'])\n",
    "    nt.toggle_physics(False) # to avoid initial slow rendering\n",
    "    # to activate forceAtlas2Based and interaction options\n",
    "    nt.show_buttons(filter_=['physics', 'interaction'])\n",
    "    return nt,G\n",
    "    \n",
    "    "
   ]
  },
  {
   "cell_type": "code",
   "execution_count": 33,
   "metadata": {},
   "outputs": [
    {
     "name": "stdout",
     "output_type": "stream",
     "text": [
      "Warning: When  cdn_resources is 'local' jupyter notebook has issues displaying graphics on chrome/safari. Use cdn_resources='in_line' or cdn_resources='remote' if you have issues viewing graphics in a notebook.\n"
     ]
    }
   ],
   "source": [
    "nt, GPT = Networkplt(chatGPT)\n",
    "#nt.show('GPT.html')"
   ]
  },
  {
   "cell_type": "code",
   "execution_count": 34,
   "metadata": {},
   "outputs": [
    {
     "name": "stdout",
     "output_type": "stream",
     "text": [
      "Warning: When  cdn_resources is 'local' jupyter notebook has issues displaying graphics on chrome/safari. Use cdn_resources='in_line' or cdn_resources='remote' if you have issues viewing graphics in a notebook.\n"
     ]
    }
   ],
   "source": [
    "nt, BTC = Networkplt(bitcoin)\n",
    "#nt.show('BTC.html')"
   ]
  },
  {
   "cell_type": "code",
   "execution_count": 35,
   "metadata": {},
   "outputs": [
    {
     "name": "stdout",
     "output_type": "stream",
     "text": [
      "Warning: When  cdn_resources is 'local' jupyter notebook has issues displaying graphics on chrome/safari. Use cdn_resources='in_line' or cdn_resources='remote' if you have issues viewing graphics in a notebook.\n"
     ]
    }
   ],
   "source": [
    "nt, BRD = Networkplt(boredApeYachtClub)\n",
    "#nt.show('boredApeYachtclub.html')"
   ]
  },
  {
   "cell_type": "code",
   "execution_count": 36,
   "metadata": {},
   "outputs": [
    {
     "name": "stdout",
     "output_type": "stream",
     "text": [
      "Warning: When  cdn_resources is 'local' jupyter notebook has issues displaying graphics on chrome/safari. Use cdn_resources='in_line' or cdn_resources='remote' if you have issues viewing graphics in a notebook.\n"
     ]
    }
   ],
   "source": [
    "nt, ENG = Networkplt(energy)\n",
    "#nt.show('energy.html')"
   ]
  },
  {
   "cell_type": "code",
   "execution_count": 37,
   "metadata": {},
   "outputs": [
    {
     "name": "stdout",
     "output_type": "stream",
     "text": [
      "Warning: When  cdn_resources is 'local' jupyter notebook has issues displaying graphics on chrome/safari. Use cdn_resources='in_line' or cdn_resources='remote' if you have issues viewing graphics in a notebook.\n"
     ]
    }
   ],
   "source": [
    "nt, ETH = Networkplt(eth)\n",
    "#nt.show('eth.html')"
   ]
  },
  {
   "cell_type": "code",
   "execution_count": 38,
   "metadata": {},
   "outputs": [
    {
     "name": "stdout",
     "output_type": "stream",
     "text": [
      "Warning: When  cdn_resources is 'local' jupyter notebook has issues displaying graphics on chrome/safari. Use cdn_resources='in_line' or cdn_resources='remote' if you have issues viewing graphics in a notebook.\n"
     ]
    }
   ],
   "source": [
    "nt, URA = Networkplt(uranium)\n",
    "#nt.show('uranium.html')"
   ]
  },
  {
   "cell_type": "code",
   "execution_count": 39,
   "metadata": {},
   "outputs": [],
   "source": [
    "components = nx.weakly_connected_components(GPT)"
   ]
  },
  {
   "cell_type": "code",
   "execution_count": 40,
   "metadata": {},
   "outputs": [],
   "source": [
    "a = [list(component) for component in components]"
   ]
  },
  {
   "cell_type": "code",
   "execution_count": 41,
   "metadata": {},
   "outputs": [
    {
     "data": {
      "text/plain": [
       "457"
      ]
     },
     "execution_count": 41,
     "metadata": {},
     "output_type": "execute_result"
    }
   ],
   "source": [
    "len(a)"
   ]
  },
  {
   "cell_type": "code",
   "execution_count": 182,
   "metadata": {},
   "outputs": [],
   "source": [
    "#Calculate the Node statistics \n",
    "#Calculate Closeness, Degree, Betweeness centrality   df\n",
    "#Calculate Assortivity\n",
    "#Calculate the out-degree to No. of tweets for virality calculation    df\n",
    "# Out degree to number of followers, high out degree with low followers mean virality of the tweet\n",
    "#Identify high retweet users from many users.. High No of inbound   df\n",
    "#density of the graph\n",
    "\n",
    "#Talk about each network and their characteristics, from the earlier calculated table, show the top 10 of each category to make a point\n",
    "#ChatGPT, BTC, Etherium, Uranium etc. \n",
    "\n",
    "\n"
   ]
  },
  {
   "cell_type": "code",
   "execution_count": 183,
   "metadata": {},
   "outputs": [],
   "source": [
    "# Draw K-core=2 networks for all "
   ]
  },
  {
   "cell_type": "code",
   "execution_count": 184,
   "metadata": {},
   "outputs": [],
   "source": [
    "# Plot the CCDF of all networks togeather\n",
    "#talk about the differences in terms of in-degree / out-degree distribution "
   ]
  },
  {
   "cell_type": "code",
   "execution_count": 42,
   "metadata": {},
   "outputs": [],
   "source": [
    "def NodeStats (G, Gjson):\n",
    "    in_degree = pd.DataFrame.from_dict(dict(G.in_degree()),orient ='index',columns=['in_degree']).sort_index()\n",
    "    out_degree = pd.DataFrame.from_dict(dict(G.out_degree()), orient = 'index', columns = ['out_degree']).sort_index()\n",
    "    degree = pd.DataFrame.from_dict(dict(G.degree()), orient = 'index', columns = ['degree']).sort_index()\n",
    "    closeness = pd.DataFrame.from_dict(dict(nx.closeness_centrality(G,wf_improved=True)), orient = 'index', columns = ['closeness']).sort_index()\n",
    "    betweeness = pd.DataFrame.from_dict(dict(nx.betweenness_centrality(G, normalized=True)), orient = 'index', columns = ['betweeness']).sort_index()\n",
    "    #assortitivity = pd.DataFrame.from_dict(dict(nx.attribute_assortativity_coefficient(G)), orient = 'index', columns = ['betweeness']).sort_index()\n",
    "    #nfollowers = pd.DataFrame.from_dict(dict(GPT.nodes)}), orient = 'index', columns = ['betweeness'])\n",
    "    ntweets = pd.DataFrame.from_dict({node: len(att) for node,att in dict(tweetcount(Gjson)).items()},orient='index', columns = ['ntweets']).sort_index()\n",
    "    nretweets = pd.DataFrame.from_dict({node: len(att) for node,att in dict(retweetcount(Gjson)).items()},orient='index', columns = ['nretweets']).sort_index()\n",
    "    nfollowers = pd.DataFrame.from_dict({node: att['weight'] for node,att in G.nodes(data=True)},orient='index', columns = ['nfollowers']).sort_index()\n",
    "    NodeStats = pd.concat([in_degree,out_degree,degree,closeness,betweeness,ntweets,nretweets,nfollowers],axis=1)\n",
    "    NodeStats['virality'] = NodeStats['out_degree']/NodeStats['nfollowers']\n",
    "    NodeStats = NodeStats.sort_values(by='out_degree',ascending=False)\n",
    "    return NodeStats"
   ]
  },
  {
   "cell_type": "code",
   "execution_count": 43,
   "metadata": {},
   "outputs": [],
   "source": [
    "BTC_Stat = NodeStats(BTC,bitcoin)\n",
    "GPT_Stat = NodeStats(GPT,chatGPT)\n",
    "BRD_Stat = NodeStats(BRD,boredApeYachtClub)\n",
    "ENG_Stat = NodeStats(ENG,energy)\n",
    "ETH_Stat = NodeStats(ETH,eth)\n",
    "URA_Stat = NodeStats(URA,uranium)"
   ]
  },
  {
   "cell_type": "code",
   "execution_count": 353,
   "metadata": {},
   "outputs": [
    {
     "ename": "AttributeError",
     "evalue": "'function' object has no attribute 'loc'",
     "output_type": "error",
     "traceback": [
      "\u001b[1;31m---------------------------------------------------------------------------\u001b[0m",
      "\u001b[1;31mAttributeError\u001b[0m                            Traceback (most recent call last)",
      "Cell \u001b[1;32mIn[353], line 1\u001b[0m\n\u001b[1;32m----> 1\u001b[0m \u001b[43mNodeStats\u001b[49m\u001b[38;5;241;43m.\u001b[39;49m\u001b[43mloc\u001b[49m[NodeStats[\u001b[38;5;124m'\u001b[39m\u001b[38;5;124mout_degree\u001b[39m\u001b[38;5;124m'\u001b[39m]\u001b[38;5;241m>\u001b[39m\u001b[38;5;241m50\u001b[39m]\u001b[38;5;241m.\u001b[39mnlargest(\u001b[38;5;241m20\u001b[39m,\u001b[38;5;124m'\u001b[39m\u001b[38;5;124mvirality\u001b[39m\u001b[38;5;124m'\u001b[39m, keep\u001b[38;5;241m=\u001b[39m\u001b[38;5;124m'\u001b[39m\u001b[38;5;124mall\u001b[39m\u001b[38;5;124m'\u001b[39m)\n",
      "\u001b[1;31mAttributeError\u001b[0m: 'function' object has no attribute 'loc'"
     ]
    }
   ],
   "source": [
    "NodeStats.loc[NodeStats['out_degree']>50].nlargest(20,'virality', keep='all')"
   ]
  },
  {
   "cell_type": "code",
   "execution_count": 44,
   "metadata": {},
   "outputs": [
    {
     "name": "stderr",
     "output_type": "stream",
     "text": [
      "No handles with labels found to put in legend.\n"
     ]
    },
    {
     "data": {
      "text/plain": [
       "<matplotlib.legend.Legend at 0x7ffd807864c0>"
      ]
     },
     "execution_count": 44,
     "metadata": {},
     "output_type": "execute_result"
    },
    {
     "data": {
      "image/png": "[encoded data removed]",
      "text/plain": [
       "<Figure size 432x288 with 1 Axes>"
      ]
     },
     "metadata": {
      "needs_background": "light"
     },
     "output_type": "display_data"
    }
   ],
   "source": [
    "plt.scatter(BTC_Stat['nfollowers'],BTC_Stat['out_degree'],c='red')\n",
    "plt.scatter(GPT_Stat['nfollowers'],GPT_Stat['out_degree'],c='green')\n",
    "plt.scatter(ETH_Stat['nfollowers'],ETH_Stat['out_degree'],c='yellow')\n",
    "plt.scatter(BRD_Stat['nfollowers'],BRD_Stat['out_degree'],c='black')\n",
    "plt.scatter(URA_Stat['nfollowers'],URA_Stat['out_degree'],c='orange')\n",
    "plt.scatter(ENG_Stat['nfollowers'],ENG_Stat['out_degree'],c='blue')\n",
    "plt.legend()"
   ]
  },
  {
   "cell_type": "code",
   "execution_count": 45,
   "metadata": {},
   "outputs": [],
   "source": [
    "int_nodes = BTC_Stat.index.intersection(GPT_Stat.index)"
   ]
  },
  {
   "cell_type": "code",
   "execution_count": 388,
   "metadata": {},
   "outputs": [],
   "source": [
    "abc = nx.weakly_connected_components(GPT)"
   ]
  },
  {
   "cell_type": "code",
   "execution_count": 389,
   "metadata": {},
   "outputs": [],
   "source": [
    "relevant_components = [component for component in abc if any(node in component for node in int_nodes)]"
   ]
  },
  {
   "cell_type": "raw",
   "metadata": {},
   "source": [
    "relevant_components"
   ]
  },
  {
   "cell_type": "code",
   "execution_count": 391,
   "metadata": {},
   "outputs": [
    {
     "data": {
      "text/plain": [
       "Index(['VinodJason', 'GenxAnalytics', 'RunnymedeCap', 'Cryptogains9',\n",
       "       'JaniseMonroy', 'maximustechmxz', 'Satoshi_Talks', 'PrimaryDomain',\n",
       "       'block_delta', 'StarfighterGen', 'esatoshiclub', 'NFT_World_News',\n",
       "       'sonu_monika', 'bjeaglefeather', 'technicitymag', 'shehriyar_x2',\n",
       "       'charlotedaviis', '_CocoBot', 'Verdoux11', 'toudajew', 'uCloudifyAI',\n",
       "       'ahtuzhlobko', 'kush420pi', 'padagalpavan', 'kamsylove46',\n",
       "       'rahul05ranjan', 'kriptokafein', 'nebukenazzer3', 'saadameer310',\n",
       "       'domainhelpline', 'domainapebot', 'sayy_hassan', 'eStream_Studios',\n",
       "       'jahanerooni', 'inspiredmoneyfm', 'DibalaHo', 'HarryBee_Yhu',\n",
       "       'Amandam41927499', 'AlexaBlockchain', 'BubbleJunction', 'Sahil_BB7',\n",
       "       'TECHW1G', 'MOHAMMA28217447', 'Metilda_loisel'],\n",
       "      dtype='object')"
      ]
     },
     "execution_count": 391,
     "metadata": {},
     "output_type": "execute_result"
    }
   ],
   "source": [
    "int_nodes"
   ]
  },
  {
   "cell_type": "code",
   "execution_count": 47,
   "metadata": {},
   "outputs": [
    {
     "data": {
      "text/html": [
       "<div>\n",
       "<style scoped>\n",
       "    .dataframe tbody tr th:only-of-type {\n",
       "        vertical-align: middle;\n",
       "    }\n",
       "\n",
       "    .dataframe tbody tr th {\n",
       "        vertical-align: top;\n",
       "    }\n",
       "\n",
       "    .dataframe thead th {\n",
       "        text-align: right;\n",
       "    }\n",
       "</style>\n",
       "<table border=\"1\" class=\"dataframe\">\n",
       "  <thead>\n",
       "    <tr style=\"text-align: right;\">\n",
       "      <th></th>\n",
       "      <th>in_degree</th>\n",
       "      <th>out_degree</th>\n",
       "      <th>degree</th>\n",
       "      <th>closeness</th>\n",
       "      <th>betweeness</th>\n",
       "      <th>ntweets</th>\n",
       "      <th>nretweets</th>\n",
       "      <th>nfollowers</th>\n",
       "      <th>virality</th>\n",
       "    </tr>\n",
       "  </thead>\n",
       "  <tbody>\n",
       "    <tr>\n",
       "      <th>Ishansharma7390</th>\n",
       "      <td>0</td>\n",
       "      <td>294</td>\n",
       "      <td>294</td>\n",
       "      <td>0.000000</td>\n",
       "      <td>0.0</td>\n",
       "      <td>1.0</td>\n",
       "      <td>NaN</td>\n",
       "      <td>136398</td>\n",
       "      <td>0.002155</td>\n",
       "    </tr>\n",
       "    <tr>\n",
       "      <th>Whistle020</th>\n",
       "      <td>0</td>\n",
       "      <td>197</td>\n",
       "      <td>197</td>\n",
       "      <td>0.000000</td>\n",
       "      <td>0.0</td>\n",
       "      <td>2.0</td>\n",
       "      <td>NaN</td>\n",
       "      <td>10023</td>\n",
       "      <td>0.019655</td>\n",
       "    </tr>\n",
       "    <tr>\n",
       "      <th>johnvianny</th>\n",
       "      <td>0</td>\n",
       "      <td>155</td>\n",
       "      <td>155</td>\n",
       "      <td>0.000000</td>\n",
       "      <td>0.0</td>\n",
       "      <td>1.0</td>\n",
       "      <td>NaN</td>\n",
       "      <td>1357</td>\n",
       "      <td>0.114223</td>\n",
       "    </tr>\n",
       "    <tr>\n",
       "      <th>bepaitoken</th>\n",
       "      <td>0</td>\n",
       "      <td>126</td>\n",
       "      <td>126</td>\n",
       "      <td>0.000000</td>\n",
       "      <td>0.0</td>\n",
       "      <td>1.0</td>\n",
       "      <td>NaN</td>\n",
       "      <td>3877</td>\n",
       "      <td>0.032499</td>\n",
       "    </tr>\n",
       "    <tr>\n",
       "      <th>DataChaz</th>\n",
       "      <td>0</td>\n",
       "      <td>103</td>\n",
       "      <td>103</td>\n",
       "      <td>0.000000</td>\n",
       "      <td>0.0</td>\n",
       "      <td>13.0</td>\n",
       "      <td>1.0</td>\n",
       "      <td>62327</td>\n",
       "      <td>0.001653</td>\n",
       "    </tr>\n",
       "    <tr>\n",
       "      <th>...</th>\n",
       "      <td>...</td>\n",
       "      <td>...</td>\n",
       "      <td>...</td>\n",
       "      <td>...</td>\n",
       "      <td>...</td>\n",
       "      <td>...</td>\n",
       "      <td>...</td>\n",
       "      <td>...</td>\n",
       "      <td>...</td>\n",
       "    </tr>\n",
       "    <tr>\n",
       "      <th>Praveen06136792</th>\n",
       "      <td>1</td>\n",
       "      <td>0</td>\n",
       "      <td>1</td>\n",
       "      <td>0.000326</td>\n",
       "      <td>0.0</td>\n",
       "      <td>NaN</td>\n",
       "      <td>1.0</td>\n",
       "      <td>18</td>\n",
       "      <td>0.000000</td>\n",
       "    </tr>\n",
       "    <tr>\n",
       "      <th>Praveen43673603</th>\n",
       "      <td>1</td>\n",
       "      <td>0</td>\n",
       "      <td>1</td>\n",
       "      <td>0.000326</td>\n",
       "      <td>0.0</td>\n",
       "      <td>NaN</td>\n",
       "      <td>1.0</td>\n",
       "      <td>472</td>\n",
       "      <td>0.000000</td>\n",
       "    </tr>\n",
       "    <tr>\n",
       "      <th>President_Law_</th>\n",
       "      <td>1</td>\n",
       "      <td>0</td>\n",
       "      <td>1</td>\n",
       "      <td>0.000326</td>\n",
       "      <td>0.0</td>\n",
       "      <td>NaN</td>\n",
       "      <td>1.0</td>\n",
       "      <td>2090</td>\n",
       "      <td>0.000000</td>\n",
       "    </tr>\n",
       "    <tr>\n",
       "      <th>PrimaRudolph1</th>\n",
       "      <td>1</td>\n",
       "      <td>0</td>\n",
       "      <td>1</td>\n",
       "      <td>0.000326</td>\n",
       "      <td>0.0</td>\n",
       "      <td>NaN</td>\n",
       "      <td>1.0</td>\n",
       "      <td>0</td>\n",
       "      <td>NaN</td>\n",
       "    </tr>\n",
       "    <tr>\n",
       "      <th>0xRohhannn____</th>\n",
       "      <td>2</td>\n",
       "      <td>0</td>\n",
       "      <td>2</td>\n",
       "      <td>0.000653</td>\n",
       "      <td>0.0</td>\n",
       "      <td>NaN</td>\n",
       "      <td>2.0</td>\n",
       "      <td>177</td>\n",
       "      <td>0.000000</td>\n",
       "    </tr>\n",
       "  </tbody>\n",
       "</table>\n",
       "<p>3065 rows × 9 columns</p>\n",
       "</div>"
      ],
      "text/plain": [
       "                 in_degree  out_degree  degree  closeness  betweeness  \\\n",
       "Ishansharma7390          0         294     294   0.000000         0.0   \n",
       "Whistle020               0         197     197   0.000000         0.0   \n",
       "johnvianny               0         155     155   0.000000         0.0   \n",
       "bepaitoken               0         126     126   0.000000         0.0   \n",
       "DataChaz                 0         103     103   0.000000         0.0   \n",
       "...                    ...         ...     ...        ...         ...   \n",
       "Praveen06136792          1           0       1   0.000326         0.0   \n",
       "Praveen43673603          1           0       1   0.000326         0.0   \n",
       "President_Law_           1           0       1   0.000326         0.0   \n",
       "PrimaRudolph1            1           0       1   0.000326         0.0   \n",
       "0xRohhannn____           2           0       2   0.000653         0.0   \n",
       "\n",
       "                 ntweets  nretweets  nfollowers  virality  \n",
       "Ishansharma7390      1.0        NaN      136398  0.002155  \n",
       "Whistle020           2.0        NaN       10023  0.019655  \n",
       "johnvianny           1.0        NaN        1357  0.114223  \n",
       "bepaitoken           1.0        NaN        3877  0.032499  \n",
       "DataChaz            13.0        1.0       62327  0.001653  \n",
       "...                  ...        ...         ...       ...  \n",
       "Praveen06136792      NaN        1.0          18  0.000000  \n",
       "Praveen43673603      NaN        1.0         472  0.000000  \n",
       "President_Law_       NaN        1.0        2090  0.000000  \n",
       "PrimaRudolph1        NaN        1.0           0       NaN  \n",
       "0xRohhannn____       NaN        2.0         177  0.000000  \n",
       "\n",
       "[3065 rows x 9 columns]"
      ]
     },
     "execution_count": 47,
     "metadata": {},
     "output_type": "execute_result"
    }
   ],
   "source": [
    "GPT_Stat"
   ]
  },
  {
   "cell_type": "markdown",
   "metadata": {},
   "source": [
    "### Volume of Data"
   ]
  },
  {
   "cell_type": "code",
   "execution_count": 80,
   "metadata": {},
   "outputs": [
    {
     "name": "stdout",
     "output_type": "stream",
     "text": [
      "#bitcoin:  5.813622840119166 MB per tweet\n",
      "#chatgpt:  6.4814694 MB per tweet\n",
      "#energy:  6.265687000000001 MB per tweet\n",
      "#Eth:  6.821722855428915 MB per tweet\n",
      "#uranium:  6.2488214 MB per tweet\n"
     ]
    }
   ],
   "source": [
    "print(\"#bitcoin: \", os.path.getsize('Retweet-JSON/#Bitcoin.json')/1000 / len(bitcoin), 'MB per tweet')\n",
    "print(\"#chatgpt: \", os.path.getsize('Retweet-JSON/#chatgpt.json')/1000 / len(chatGPT), 'MB per tweet')\n",
    "print(\"#energy: \", os.path.getsize('Retweet-JSON/#energy.json')/1000 / len(energy), 'MB per tweet')\n",
    "print(\"#Eth: \", os.path.getsize('Retweet-JSON/#Eth.json')/1000 / len(eth), 'MB per tweet')\n",
    "print(\"#uranium: \", os.path.getsize('Retweet-JSON/#uranium.json')/1000 / len(uranium), 'MB per tweet')"
   ]
  },
  {
   "cell_type": "markdown",
   "metadata": {},
   "source": [
    "### Velocity of Data"
   ]
  },
  {
   "cell_type": "code",
   "execution_count": 68,
   "metadata": {},
   "outputs": [],
   "source": [
    "def dataVs(hashtag):\n",
    "    daten = [tweet['created_at'] for tweet in hashtag]\n",
    "    # Convert string to datetime objects\n",
    "    datetime_o = [datetime.strptime(date_s, '%a %b %d %H:%M:%S %z %Y') for date_s in daten]\n",
    "    duration = max(datetime_o)-min(datetime_o)\n",
    "    rate = duration / len(hashtag)\n",
    "    print(rate ,\"; collection duration:\",duration)\n"
   ]
  },
  {
   "cell_type": "code",
   "execution_count": 69,
   "metadata": {},
   "outputs": [
    {
     "name": "stdout",
     "output_type": "stream",
     "text": [
      "0:00:29.861600 ; collection duration: 1 day, 17:28:28\n",
      "0:00:16.338431 ; collection duration: 22:51:04\n",
      "0:02:42.061663 ; collection duration: 9 days, 12:30:25\n",
      "0:00:31.479800 ; collection duration: 1 day, 19:43:19\n",
      "0:00:28.380324 ; collection duration: 1 day, 15:25:30\n",
      "0:01:43.696600 ; collection duration: 6 days, 0:01:23\n"
     ]
    }
   ],
   "source": [
    "dataVs(chatGPT)\n",
    "dataVs(bitcoin)\n",
    "dataVs(boredApeYachtClub)\n",
    "dataVs(energy)\n",
    "dataVs(eth)\n",
    "dataVs(uranium)"
   ]
  },
  {
   "cell_type": "code",
   "execution_count": 429,
   "metadata": {},
   "outputs": [],
   "source": [
    "daten = list(set(date))"
   ]
  },
  {
   "cell_type": "code",
   "execution_count": 430,
   "metadata": {},
   "outputs": [
    {
     "data": {
      "text/plain": [
       "list"
      ]
     },
     "execution_count": 430,
     "metadata": {},
     "output_type": "execute_result"
    }
   ],
   "source": [
    "type(daten)"
   ]
  },
  {
   "cell_type": "code",
   "execution_count": 436,
   "metadata": {},
   "outputs": [
    {
     "ename": "TypeError",
     "evalue": "unsupported operand type(s) for -: 'str' and 'str'",
     "output_type": "error",
     "traceback": [
      "\u001b[1;31m---------------------------------------------------------------------------\u001b[0m",
      "\u001b[1;31mTypeError\u001b[0m                                 Traceback (most recent call last)",
      "Cell \u001b[1;32mIn[436], line 1\u001b[0m\n\u001b[1;32m----> 1\u001b[0m \u001b[38;5;28;43mmax\u001b[39;49m\u001b[43m(\u001b[49m\u001b[43mdaten\u001b[49m\u001b[43m)\u001b[49m\u001b[38;5;241;43m-\u001b[39;49m\u001b[38;5;28;43mmin\u001b[39;49m\u001b[43m(\u001b[49m\u001b[43mdaten\u001b[49m\u001b[43m)\u001b[49m\n",
      "\u001b[1;31mTypeError\u001b[0m: unsupported operand type(s) for -: 'str' and 'str'"
     ]
    }
   ],
   "source": [
    "max(daten)"
   ]
  },
  {
   "cell_type": "code",
   "execution_count": 445,
   "metadata": {},
   "outputs": [],
   "source": [
    "# Convert string to datetime objects\n",
    "datetime_objects = [datetime.strptime(date_str, '%a %b %d %H:%M:%S %z %Y') for date_str in daten]\n",
    "\n",
    "# Example: Sorting the datetime objects\n",
    "sorted_datetime_objects = sorted(datetime_objects)"
   ]
  },
  {
   "cell_type": "code",
   "execution_count": 453,
   "metadata": {},
   "outputs": [],
   "source": [
    "adf = max(datetime_objects)-min(datetime_objects)"
   ]
  },
  {
   "cell_type": "code",
   "execution_count": 451,
   "metadata": {},
   "outputs": [
    {
     "data": {
      "text/plain": [
       "datetime.datetime(2023, 2, 7, 20, 42, 13, tzinfo=datetime.timezone.utc)"
      ]
     },
     "execution_count": 451,
     "metadata": {},
     "output_type": "execute_result"
    }
   ],
   "source": [
    "max(datetime_objects)"
   ]
  },
  {
   "cell_type": "code",
   "execution_count": 452,
   "metadata": {},
   "outputs": [
    {
     "data": {
      "text/plain": [
       "datetime.datetime(2023, 2, 6, 3, 13, 45, tzinfo=datetime.timezone.utc)"
      ]
     },
     "execution_count": 452,
     "metadata": {},
     "output_type": "execute_result"
    }
   ],
   "source": [
    "min(datetime_objects)"
   ]
  },
  {
   "cell_type": "code",
   "execution_count": 455,
   "metadata": {},
   "outputs": [
    {
     "data": {
      "text/plain": [
       "datetime.timedelta"
      ]
     },
     "execution_count": 455,
     "metadata": {},
     "output_type": "execute_result"
    }
   ],
   "source": [
    "type(adf)"
   ]
  },
  {
   "cell_type": "code",
   "execution_count": 456,
   "metadata": {},
   "outputs": [
    {
     "data": {
      "text/plain": [
       "4139"
      ]
     },
     "execution_count": 456,
     "metadata": {},
     "output_type": "execute_result"
    }
   ],
   "source": [
    "len(datetime_objects)"
   ]
  },
  {
   "cell_type": "code",
   "execution_count": 461,
   "metadata": {},
   "outputs": [
    {
     "data": {
      "text/plain": [
       "datetime.timedelta(seconds=29861, microseconds=600000)"
      ]
     },
     "execution_count": 461,
     "metadata": {},
     "output_type": "execute_result"
    }
   ],
   "source": [
    "adf / int(len(5"
   ]
  },
  {
   "cell_type": "code",
   "execution_count": 460,
   "metadata": {},
   "outputs": [
    {
     "data": {
      "text/plain": [
       "datetime.timedelta(days=1, seconds=62908)"
      ]
     },
     "execution_count": 460,
     "metadata": {},
     "output_type": "execute_result"
    }
   ],
   "source": [
    "adf"
   ]
  },
  {
   "cell_type": "code",
   "execution_count": 463,
   "metadata": {},
   "outputs": [
    {
     "data": {
      "text/plain": [
       "datetime.timedelta(seconds=29, microseconds=861600)"
      ]
     },
     "execution_count": 463,
     "metadata": {},
     "output_type": "execute_result"
    }
   ],
   "source": [
    "adf / len(chatGPT)"
   ]
  },
  {
   "cell_type": "code",
   "execution_count": null,
   "metadata": {},
   "outputs": [],
   "source": []
  }
 ],
 "metadata": {
  "kernelspec": {
   "display_name": "Python 3",
   "language": "python",
   "name": "python3"
  },
  "language_info": {
   "codemirror_mode": {
    "name": "ipython",
    "version": 3
   },
   "file_extension": ".py",
   "mimetype": "text/x-python",
   "name": "python",
   "nbconvert_exporter": "python",
   "pygments_lexer": "ipython3",
   "version": "3.8.5"
  },
  "toc-autonumbering": true,
  "toc-showmarkdowntxt": false
 },
 "nbformat": 4,
 "nbformat_minor": 5
}
