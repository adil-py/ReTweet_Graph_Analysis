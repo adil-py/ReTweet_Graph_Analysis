{
 "cells": [
  {
   "cell_type": "code",
   "execution_count": 2,
   "id": "c7014a4a-5881-4bd5-9c18-2e1b1eac5f7c",
   "metadata": {
    "tags": []
   },
   "outputs": [],
   "source": [
    "import pandas as pd\n",
    "from pyvis.network import Network\n",
    "import networkx as nx\n",
    "import numpy as np\n",
    "import os\n",
    "import sys\n",
    "import matplotlib.pyplot as plt"
   ]
  },
  {
   "cell_type": "code",
   "execution_count": 3,
   "id": "e6f1aa19-61d0-48f6-a16c-ce515f78d0d5",
   "metadata": {
    "tags": []
   },
   "outputs": [],
   "source": [
    "current_dir = os.path.dirname(os.path.abspath(sys.argv[0]))"
   ]
  },
  {
   "cell_type": "code",
   "execution_count": 4,
   "id": "c4e23b80-87fd-4b02-bfa0-ea7b7014e9ad",
   "metadata": {
    "tags": []
   },
   "outputs": [
    {
     "data": {
      "text/plain": [
       "'C:\\\\Users\\\\Adil\\\\anaconda3\\\\lib\\\\site-packages'"
      ]
     },
     "execution_count": 4,
     "metadata": {},
     "output_type": "execute_result"
    }
   ],
   "source": [
    "current_dir"
   ]
  },
  {
   "cell_type": "code",
   "execution_count": 5,
   "id": "a42e0f1a-a68c-489b-a72f-7f419db57796",
   "metadata": {},
   "outputs": [],
   "source": [
    "import json\n",
    "\n",
    "with open('Retweet-JSON\\#Bitcoin.json','r') as f:\n",
    "    bitcoin = json.load(f)\n",
    "\n",
    "with open('Retweet-JSON\\#BoredApeYachtClub.json','r') as f:\n",
    "    boredApeYachtClub = json.load(f)\n",
    "\n",
    "with open('Retweet-JSON\\#chatgpt.json','r') as f:\n",
    "    chatGPT = json.load(f)\n",
    "\n",
    "with open('Retweet-JSON\\#energy.json','r') as f:\n",
    "    energy = json.load(f)\n",
    "\n",
    "with open('Retweet-JSON\\#Eth.json','r') as f:\n",
    "    eth = json.load(f)\n",
    "\n",
    "with open('Retweet-JSON\\#uranium.json','r') as f:\n",
    "    uranium = json.load(f)"
   ]
  },
  {
   "cell_type": "code",
   "execution_count": 6,
   "id": "e885fa6d-af3a-4973-aaaa-1691d47c3ed3",
   "metadata": {},
   "outputs": [],
   "source": [
    "def tweetcount(hashtag):\n",
    "    tweetcount = {}\n",
    "    for tweeta in hashtag:\n",
    "        if 'retweeted_status' in tweeta:\n",
    "            screen_name = tweeta['retweeted_status']['user']['screen_name']\n",
    "            tweet_text = tweeta['full_text']\n",
    "            \n",
    "            # Check if the screen name exists as a key and if the tweet is already in their list\n",
    "            if screen_name in tweetcount:\n",
    "                if tweet_text not in tweetcount[screen_name]:\n",
    "                    tweetcount[screen_name].append(tweet_text)\n",
    "            else:\n",
    "                # Initialize with the first tweet's text if the key doesn't exist\n",
    "                tweetcount[screen_name] = [tweet_text]\n",
    "    return tweetcount"
   ]
  },
  {
   "cell_type": "code",
   "execution_count": 7,
   "id": "e4b19f08-17fa-40b4-a680-cfeb9cb949ca",
   "metadata": {},
   "outputs": [],
   "source": [
    "def retweetcount(hashtag):\n",
    "    retweetcount = {}\n",
    "\n",
    "    for tweets in hashtag:\n",
    "        if 'retweeted_status' in tweets:\n",
    "            screen_name = tweets['user']['screen_name']\n",
    "            tweet_text = tweets['full_text']\n",
    "            \n",
    "            # Check if the screen name exists as a key and if the tweet is already in their list\n",
    "            if screen_name in retweetcount:\n",
    "                if tweet_text not in retweetcount[screen_name]:\n",
    "                    retweetcount[screen_name].append(tweet_text)\n",
    "            else:\n",
    "                # Initialize with the first tweet's text if the key doesn't exist\n",
    "                retweetcount[screen_name] = [tweet_text]\n",
    "    return retweetcount"
   ]
  },
  {
   "cell_type": "code",
   "execution_count": 8,
   "id": "b5292fd8-bbdf-4ec1-adcf-ece165c55175",
   "metadata": {},
   "outputs": [],
   "source": [
    "def Networkplt(hashtag):\n",
    "\n",
    "    G = nx.DiGraph()\n",
    "    tc = tweetcount(hashtag)               # A dictionary with original tweeter's tweets\n",
    "    rtc = retweetcount(hashtag)            # A dictionary with retweeter's tweets \n",
    "    for tweet in hashtag:\n",
    "        retweeter_name = tweet['user']['screen_name']\n",
    "        retweeter_follower_c = tweet['user']['followers_count']\n",
    "        if 'retweeted_status' in tweet:\n",
    "            original_tweeter_name = tweet['retweeted_status']['user']['screen_name']\n",
    "            orignal_tweeter_follower_c = tweet['retweeted_status']['user']['followers_count']\n",
    "            if G.has_edge(retweeter_name,original_tweeter_name):\n",
    "                G.edges[retweeter_name,original_tweeter_name]['weight']+=1\n",
    "    \n",
    "            else:    \n",
    "                G.add_node(retweeter_name,weight = retweeter_follower_c, value =len(rtc[retweeter_name])*0.5, color = 'Blue')\n",
    "                G.add_node(original_tweeter_name, weight = orignal_tweeter_follower_c, value = len(tc[original_tweeter_name])*0.5, color ='Red')\n",
    "                G.add_edge(retweeter_name,original_tweeter_name, weight = 1)\n",
    "        \n",
    "    nt = Network(directed=nx.is_directed(G), notebook=True,)\n",
    "    nt.from_nx(G)\n",
    "    return nt,G\n"
   ]
  },
  {
   "cell_type": "code",
   "execution_count": 24,
   "id": "45880195-e691-40b4-b015-3ec900a8a6a2",
   "metadata": {},
   "outputs": [
    {
     "name": "stdout",
     "output_type": "stream",
     "text": [
      "Warning: When  cdn_resources is 'local' jupyter notebook has issues displaying graphics on chrome/safari. Use cdn_resources='in_line' or cdn_resources='remote' if you have issues viewing graphics in a notebook.\n",
      "GPT.html\n"
     ]
    },
    {
     "data": {
      "text/html": [
       "\n",
       "        <iframe\n",
       "            width=\"100%\"\n",
       "            height=\"600px\"\n",
       "            src=\"GPT.html\"\n",
       "            frameborder=\"0\"\n",
       "            allowfullscreen\n",
       "            \n",
       "        ></iframe>\n",
       "        "
      ],
      "text/plain": [
       "<IPython.lib.display.IFrame at 0x1fc748aa130>"
      ]
     },
     "execution_count": 24,
     "metadata": {},
     "output_type": "execute_result"
    }
   ],
   "source": [
    "nt, GPT = Networkplt(chatGPT)\n",
    "nt.show('GPT.html')"
   ]
  },
  {
   "cell_type": "code",
   "execution_count": 15,
   "id": "74e856dd-4554-472d-8293-2f902fef2bf8",
   "metadata": {},
   "outputs": [
    {
     "name": "stdout",
     "output_type": "stream",
     "text": [
      "Warning: When  cdn_resources is 'local' jupyter notebook has issues displaying graphics on chrome/safari. Use cdn_resources='in_line' or cdn_resources='remote' if you have issues viewing graphics in a notebook.\n",
      "BTC.html\n"
     ]
    },
    {
     "data": {
      "text/html": [
       "\n",
       "        <iframe\n",
       "            width=\"100%\"\n",
       "            height=\"600px\"\n",
       "            src=\"BTC.html\"\n",
       "            frameborder=\"0\"\n",
       "            allowfullscreen\n",
       "            \n",
       "        ></iframe>\n",
       "        "
      ],
      "text/plain": [
       "<IPython.lib.display.IFrame at 0x29ca73c0220>"
      ]
     },
     "execution_count": 15,
     "metadata": {},
     "output_type": "execute_result"
    }
   ],
   "source": [
    "nt = Network(directed=nx.is_directed(BTC), notebook=True,)\n",
    "nt.from_nx(BTC)\n",
    "nt.show('BTC.html')"
   ]
  },
  {
   "cell_type": "code",
   "execution_count": 42,
   "id": "498abe6d-6568-4a86-94e5-0685e3ad473a",
   "metadata": {},
   "outputs": [
    {
     "data": {
      "text/plain": [
       "110"
      ]
     },
     "execution_count": 42,
     "metadata": {},
     "output_type": "execute_result"
    }
   ],
   "source": [
    "G.nodes['Neuro_eth']['weight']"
   ]
  },
  {
   "cell_type": "code",
   "execution_count": 27,
   "id": "25877aea-1924-49e3-a726-00391a73113d",
   "metadata": {},
   "outputs": [
    {
     "name": "stdout",
     "output_type": "stream",
     "text": [
      "Warning: When  cdn_resources is 'local' jupyter notebook has issues displaying graphics on chrome/safari. Use cdn_resources='in_line' or cdn_resources='remote' if you have issues viewing graphics in a notebook.\n",
      "boredApeYachtclub.html\n"
     ]
    },
    {
     "data": {
      "text/html": [
       "\n",
       "        <iframe\n",
       "            width=\"100%\"\n",
       "            height=\"600px\"\n",
       "            src=\"boredApeYachtclub.html\"\n",
       "            frameborder=\"0\"\n",
       "            allowfullscreen\n",
       "            \n",
       "        ></iframe>\n",
       "        "
      ],
      "text/plain": [
       "<IPython.lib.display.IFrame at 0x1fc7b219f40>"
      ]
     },
     "execution_count": 27,
     "metadata": {},
     "output_type": "execute_result"
    }
   ],
   "source": [
    "nt, GPT = Networkplt(boredApeYachtClub)\n",
    "nt.show('boredApeYachtclub.html')"
   ]
  },
  {
   "cell_type": "code",
   "execution_count": 28,
   "id": "c89de1cd-3902-4a82-9847-bcbad642109e",
   "metadata": {},
   "outputs": [
    {
     "name": "stdout",
     "output_type": "stream",
     "text": [
      "Warning: When  cdn_resources is 'local' jupyter notebook has issues displaying graphics on chrome/safari. Use cdn_resources='in_line' or cdn_resources='remote' if you have issues viewing graphics in a notebook.\n",
      "energy.html\n"
     ]
    },
    {
     "data": {
      "text/html": [
       "\n",
       "        <iframe\n",
       "            width=\"100%\"\n",
       "            height=\"600px\"\n",
       "            src=\"energy.html\"\n",
       "            frameborder=\"0\"\n",
       "            allowfullscreen\n",
       "            \n",
       "        ></iframe>\n",
       "        "
      ],
      "text/plain": [
       "<IPython.lib.display.IFrame at 0x1fc7b601910>"
      ]
     },
     "execution_count": 28,
     "metadata": {},
     "output_type": "execute_result"
    }
   ],
   "source": [
    "nt, GPT = Networkplt(energy)\n",
    "nt.show('energy.html')"
   ]
  },
  {
   "cell_type": "code",
   "execution_count": 9,
   "id": "8afc0b65-ae86-4300-80be-8b82bb1898b1",
   "metadata": {},
   "outputs": [
    {
     "name": "stdout",
     "output_type": "stream",
     "text": [
      "Warning: When  cdn_resources is 'local' jupyter notebook has issues displaying graphics on chrome/safari. Use cdn_resources='in_line' or cdn_resources='remote' if you have issues viewing graphics in a notebook.\n",
      "eth.html\n"
     ]
    },
    {
     "data": {
      "text/html": [
       "\n",
       "        <iframe\n",
       "            width=\"100%\"\n",
       "            height=\"600px\"\n",
       "            src=\"eth.html\"\n",
       "            frameborder=\"0\"\n",
       "            allowfullscreen\n",
       "            \n",
       "        ></iframe>\n",
       "        "
      ],
      "text/plain": [
       "<IPython.lib.display.IFrame at 0x2bc7c38d9d0>"
      ]
     },
     "execution_count": 9,
     "metadata": {},
     "output_type": "execute_result"
    }
   ],
   "source": [
    "nt, GPT = Networkplt(eth)\n",
    "nt.show('eth.html')"
   ]
  },
  {
   "cell_type": "code",
   "execution_count": 10,
   "id": "cbeaa1ee-57bf-400a-8ec5-c3ef4d1665c8",
   "metadata": {},
   "outputs": [
    {
     "name": "stdout",
     "output_type": "stream",
     "text": [
      "Warning: When  cdn_resources is 'local' jupyter notebook has issues displaying graphics on chrome/safari. Use cdn_resources='in_line' or cdn_resources='remote' if you have issues viewing graphics in a notebook.\n",
      "uranium.html\n"
     ]
    },
    {
     "data": {
      "text/html": [
       "\n",
       "        <iframe\n",
       "            width=\"100%\"\n",
       "            height=\"600px\"\n",
       "            src=\"uranium.html\"\n",
       "            frameborder=\"0\"\n",
       "            allowfullscreen\n",
       "            \n",
       "        ></iframe>\n",
       "        "
      ],
      "text/plain": [
       "<IPython.lib.display.IFrame at 0x2bc3f09fca0>"
      ]
     },
     "execution_count": 10,
     "metadata": {},
     "output_type": "execute_result"
    }
   ],
   "source": [
    "nt, GPT = Networkplt(uranium)\n",
    "nt.show('uranium.html')"
   ]
  },
  {
   "cell_type": "code",
   "execution_count": null,
   "id": "63a9e947-619d-4621-bc15-dae22b40a333",
   "metadata": {},
   "outputs": [],
   "source": []
  }
 ],
 "metadata": {
  "kernelspec": {
   "display_name": "Python 3 (ipykernel)",
   "language": "python",
   "name": "python3"
  },
  "language_info": {
   "codemirror_mode": {
    "name": "ipython",
    "version": 3
   },
   "file_extension": ".py",
   "mimetype": "text/x-python",
   "name": "python",
   "nbconvert_exporter": "python",
   "pygments_lexer": "ipython3",
   "version": "3.8.15"
  },
  "toc-autonumbering": true,
  "toc-showmarkdowntxt": false
 },
 "nbformat": 4,
 "nbformat_minor": 5
}
