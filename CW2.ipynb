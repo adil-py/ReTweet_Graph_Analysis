{
 "cells": [
  {
   "cell_type": "code",
   "execution_count": 392,
   "id": "c7014a4a-5881-4bd5-9c18-2e1b1eac5f7c",
   "metadata": {
    "tags": []
   },
   "outputs": [],
   "source": [
    "import pandas as pd\n",
    "from pyvis.network import Network\n",
    "import networkx as nx\n",
    "import numpy as np\n",
    "import os\n",
    "import sys\n",
    "import matplotlib.pyplot as plt\n",
    "import math"
   ]
  },
  {
   "cell_type": "code",
   "execution_count": 393,
   "id": "e6f1aa19-61d0-48f6-a16c-ce515f78d0d5",
   "metadata": {
    "tags": []
   },
   "outputs": [],
   "source": [
    "current_dir = os.path.dirname(os.path.abspath(sys.argv[0]))"
   ]
  },
  {
   "cell_type": "code",
   "execution_count": 394,
   "id": "a42e0f1a-a68c-489b-a72f-7f419db57796",
   "metadata": {},
   "outputs": [],
   "source": [
    "import json\n",
    "\n",
    "with open('Retweet-JSON\\#Bitcoin.json','r') as f:\n",
    "    bitcoin = json.load(f)\n",
    "\n",
    "with open('Retweet-JSON\\#BoredApeYachtClub.json','r') as f:\n",
    "    boredApeYachtClub = json.load(f)\n",
    "\n",
    "with open('Retweet-JSON\\#chatgpt.json','r') as f:\n",
    "    chatGPT = json.load(f)\n",
    "\n",
    "with open('Retweet-JSON\\#energy.json','r') as f:\n",
    "    energy = json.load(f)\n",
    "\n",
    "with open('Retweet-JSON\\#Eth.json','r') as f:\n",
    "    eth = json.load(f)\n",
    "\n",
    "with open('Retweet-JSON\\#uranium.json','r') as f:\n",
    "    uranium = json.load(f)"
   ]
  },
  {
   "cell_type": "code",
   "execution_count": 395,
   "id": "e885fa6d-af3a-4973-aaaa-1691d47c3ed3",
   "metadata": {},
   "outputs": [],
   "source": [
    "def tweetcount(hashtag):\n",
    "    tweetcount = {}\n",
    "    for tweeta in hashtag:\n",
    "        if 'retweeted_status' in tweeta:\n",
    "            screen_name = tweeta['retweeted_status']['user']['screen_name']\n",
    "            tweet_text = tweeta['full_text']\n",
    "            \n",
    "            # Check if the screen name exists as a key and if the tweet is already in their list\n",
    "            if screen_name in tweetcount:\n",
    "                if tweet_text not in tweetcount[screen_name]:\n",
    "                    tweetcount[screen_name].append(tweet_text)\n",
    "            else:\n",
    "                # Initialize with the first tweet's text if the key doesn't exist\n",
    "                tweetcount[screen_name] = [tweet_text]\n",
    "    return tweetcount"
   ]
  },
  {
   "cell_type": "code",
   "execution_count": 396,
   "id": "e4b19f08-17fa-40b4-a680-cfeb9cb949ca",
   "metadata": {},
   "outputs": [],
   "source": [
    "def retweetcount(hashtag):\n",
    "    retweetcount = {}\n",
    "\n",
    "    for tweets in hashtag:\n",
    "        if 'retweeted_status' in tweets:\n",
    "            screen_name = tweets['user']['screen_name']\n",
    "            tweet_text = tweets['full_text']\n",
    "            \n",
    "            # Check if the screen name exists as a key and if the tweet is already in their list\n",
    "            if screen_name in retweetcount:\n",
    "                if tweet_text not in retweetcount[screen_name]:\n",
    "                    retweetcount[screen_name].append(tweet_text)\n",
    "            else:\n",
    "                # Initialize with the first tweet's text if the key doesn't exist\n",
    "                retweetcount[screen_name] = [tweet_text]\n",
    "    return retweetcount"
   ]
  },
  {
   "cell_type": "code",
   "execution_count": 397,
   "id": "c0ca8883-f995-48ac-ada4-f9e01148a87b",
   "metadata": {},
   "outputs": [],
   "source": [
    "m=[len(a) for a in retweetcount(chatGPT)]"
   ]
  },
  {
   "cell_type": "code",
   "execution_count": 398,
   "id": "ef55c311-df0e-4afd-be5d-a4d0b662ab8b",
   "metadata": {},
   "outputs": [
    {
     "data": {
      "text/plain": [
       "15"
      ]
     },
     "execution_count": 398,
     "metadata": {},
     "output_type": "execute_result"
    }
   ],
   "source": [
    "max(m)"
   ]
  },
  {
   "cell_type": "code",
   "execution_count": 399,
   "id": "b5292fd8-bbdf-4ec1-adcf-ece165c55175",
   "metadata": {},
   "outputs": [],
   "source": [
    "def Networkplt(hashtag):\n",
    "\n",
    "    G = nx.DiGraph()\n",
    "    tc = tweetcount(hashtag)               # A dictionary with original tweeter's tweets\n",
    "    rtc = retweetcount(hashtag)            # A dictionary with retweeter's tweets \n",
    "    for tweet in hashtag:\n",
    "        retweeter_name = tweet['user']['screen_name']\n",
    "        retweeter_follower_c = tweet['user']['followers_count']\n",
    "        if 'retweeted_status' in tweet:\n",
    "            original_tweeter_name = tweet['retweeted_status']['user']['screen_name']\n",
    "            orignal_tweeter_follower_c = tweet['retweeted_status']['user']['followers_count']\n",
    "            if G.has_edge(original_tweeter_name,retweeter_name):\n",
    "                G.edges[original_tweeter_name,retweeter_name]['weight']+=1\n",
    "    \n",
    "            else:\n",
    "                G.add_node(retweeter_name,weight = retweeter_follower_c, value =int(math.log(len(rtc[retweeter_name]))), color = 'Blue')\n",
    "                G.add_node(original_tweeter_name, weight = orignal_tweeter_follower_c, value = int(math.log(len(tc[original_tweeter_name]))), color ='Red')\n",
    "                G.add_edge(original_tweeter_name,retweeter_name, weight = 1)\n",
    "        \n",
    "    G.remove_edges_from(nx.selfloop_edges(G))\n",
    "    #G = nx.k_core(G,2)\n",
    "    nt = Network(directed=nx.is_directed(G), notebook=True,height='800px', width='100%')\n",
    "    nt.from_nx(G)\n",
    "    #nt.show_buttons(filter_=['physics'])\n",
    "    nt.toggle_physics(False) # to avoid initial slow rendering\n",
    "    # to activate forceAtlas2Based and interaction options\n",
    "    nt.show_buttons(filter_=['physics', 'interaction'])\n",
    "    return nt,G\n",
    "    \n",
    "    "
   ]
  },
  {
   "cell_type": "code",
   "execution_count": 400,
   "id": "45880195-e691-40b4-b015-3ec900a8a6a2",
   "metadata": {},
   "outputs": [
    {
     "name": "stdout",
     "output_type": "stream",
     "text": [
      "Warning: When  cdn_resources is 'local' jupyter notebook has issues displaying graphics on chrome/safari. Use cdn_resources='in_line' or cdn_resources='remote' if you have issues viewing graphics in a notebook.\n"
     ]
    }
   ],
   "source": [
    "nt, GPT = Networkplt(chatGPT)\n",
    "#nt.show('GPT.html')"
   ]
  },
  {
   "cell_type": "code",
   "execution_count": 401,
   "id": "74e856dd-4554-472d-8293-2f902fef2bf8",
   "metadata": {},
   "outputs": [
    {
     "name": "stdout",
     "output_type": "stream",
     "text": [
      "Warning: When  cdn_resources is 'local' jupyter notebook has issues displaying graphics on chrome/safari. Use cdn_resources='in_line' or cdn_resources='remote' if you have issues viewing graphics in a notebook.\n"
     ]
    }
   ],
   "source": [
    "nt, BTC = Networkplt(bitcoin)\n",
    "#nt.show('BTC.html')"
   ]
  },
  {
   "cell_type": "code",
   "execution_count": 402,
   "id": "25877aea-1924-49e3-a726-00391a73113d",
   "metadata": {},
   "outputs": [
    {
     "name": "stdout",
     "output_type": "stream",
     "text": [
      "Warning: When  cdn_resources is 'local' jupyter notebook has issues displaying graphics on chrome/safari. Use cdn_resources='in_line' or cdn_resources='remote' if you have issues viewing graphics in a notebook.\n"
     ]
    }
   ],
   "source": [
    "nt, BRD = Networkplt(boredApeYachtClub)\n",
    "#nt.show('boredApeYachtclub.html')"
   ]
  },
  {
   "cell_type": "code",
   "execution_count": 403,
   "id": "c89de1cd-3902-4a82-9847-bcbad642109e",
   "metadata": {},
   "outputs": [
    {
     "name": "stdout",
     "output_type": "stream",
     "text": [
      "Warning: When  cdn_resources is 'local' jupyter notebook has issues displaying graphics on chrome/safari. Use cdn_resources='in_line' or cdn_resources='remote' if you have issues viewing graphics in a notebook.\n"
     ]
    }
   ],
   "source": [
    "nt, ENG = Networkplt(energy)\n",
    "#nt.show('energy.html')"
   ]
  },
  {
   "cell_type": "code",
   "execution_count": 404,
   "id": "8afc0b65-ae86-4300-80be-8b82bb1898b1",
   "metadata": {},
   "outputs": [
    {
     "name": "stdout",
     "output_type": "stream",
     "text": [
      "Warning: When  cdn_resources is 'local' jupyter notebook has issues displaying graphics on chrome/safari. Use cdn_resources='in_line' or cdn_resources='remote' if you have issues viewing graphics in a notebook.\n"
     ]
    }
   ],
   "source": [
    "nt, ETH = Networkplt(eth)\n",
    "#nt.show('eth.html')"
   ]
  },
  {
   "cell_type": "code",
   "execution_count": 405,
   "id": "cbeaa1ee-57bf-400a-8ec5-c3ef4d1665c8",
   "metadata": {},
   "outputs": [
    {
     "name": "stdout",
     "output_type": "stream",
     "text": [
      "Warning: When  cdn_resources is 'local' jupyter notebook has issues displaying graphics on chrome/safari. Use cdn_resources='in_line' or cdn_resources='remote' if you have issues viewing graphics in a notebook.\n"
     ]
    }
   ],
   "source": [
    "nt, URA = Networkplt(uranium)\n",
    "#nt.show('uranium.html')"
   ]
  },
  {
   "cell_type": "code",
   "execution_count": 159,
   "id": "96c9d545-e067-4fff-92ab-5b0d4bb90729",
   "metadata": {},
   "outputs": [],
   "source": [
    "components = nx.weakly_connected_components(GPT)"
   ]
  },
  {
   "cell_type": "code",
   "execution_count": 160,
   "id": "2e8ad92a-0e58-4d68-a678-025b3416c779",
   "metadata": {},
   "outputs": [],
   "source": [
    "a = [list(component) for component in components]"
   ]
  },
  {
   "cell_type": "code",
   "execution_count": 161,
   "id": "e0f80fda-5eda-4538-bb6a-c98935f375ce",
   "metadata": {},
   "outputs": [
    {
     "data": {
      "text/plain": [
       "457"
      ]
     },
     "execution_count": 161,
     "metadata": {},
     "output_type": "execute_result"
    }
   ],
   "source": [
    "len(a)"
   ]
  },
  {
   "cell_type": "code",
   "execution_count": 182,
   "id": "4b2837f9-6941-440e-b7b4-8d945e65a707",
   "metadata": {},
   "outputs": [],
   "source": [
    "#Calculate the Node statistics \n",
    "#Calculate Closeness, Degree, Betweeness centrality   df\n",
    "#Calculate Assortivity\n",
    "#Calculate the out-degree to No. of tweets for virality calculation    df\n",
    "# Out degree to number of followers, high out degree with low followers mean virality of the tweet\n",
    "#Identify high retweet users from many users.. High No of inbound   df\n",
    "#density of the graph\n",
    "\n",
    "#Talk about each network and their characteristics, from the earlier calculated table, show the top 10 of each category to make a point\n",
    "#ChatGPT, BTC, Etherium, Uranium etc. \n",
    "\n",
    "\n"
   ]
  },
  {
   "cell_type": "code",
   "execution_count": 183,
   "id": "d2870796-64f8-4d4c-8401-36f89dd39a8e",
   "metadata": {},
   "outputs": [],
   "source": [
    "# Draw K-core=2 networks for all "
   ]
  },
  {
   "cell_type": "code",
   "execution_count": 184,
   "id": "10fe3124-f078-4fe6-9fb2-2cbfce6409aa",
   "metadata": {},
   "outputs": [],
   "source": [
    "# Plot the CCDF of all networks togeather\n",
    "#talk about the differences in terms of in-degree / out-degree distribution "
   ]
  },
  {
   "cell_type": "code",
   "execution_count": 406,
   "id": "671a1ec0-da75-4ae5-917e-aada4914b6f5",
   "metadata": {},
   "outputs": [],
   "source": [
    "def NodeStats (G, Gjson):\n",
    "    in_degree = pd.DataFrame.from_dict(dict(G.in_degree()),orient ='index',columns=['in_degree']).sort_index()\n",
    "    out_degree = pd.DataFrame.from_dict(dict(G.out_degree()), orient = 'index', columns = ['out_degree']).sort_index()\n",
    "    degree = pd.DataFrame.from_dict(dict(G.degree()), orient = 'index', columns = ['degree']).sort_index()\n",
    "    closeness = pd.DataFrame.from_dict(dict(nx.closeness_centrality(G,wf_improved=True)), orient = 'index', columns = ['closeness']).sort_index()\n",
    "    betweeness = pd.DataFrame.from_dict(dict(nx.betweenness_centrality(G, normalized=True)), orient = 'index', columns = ['betweeness']).sort_index()\n",
    "    #assortitivity = pd.DataFrame.from_dict(dict(nx.attribute_assortativity_coefficient(G)), orient = 'index', columns = ['betweeness']).sort_index()\n",
    "    #nfollowers = pd.DataFrame.from_dict(dict(GPT.nodes)}), orient = 'index', columns = ['betweeness'])\n",
    "    ntweets = pd.DataFrame.from_dict({node: len(att) for node,att in dict(tweetcount(Gjson)).items()},orient='index', columns = ['ntweets']).sort_index()\n",
    "    nretweets = pd.DataFrame.from_dict({node: len(att) for node,att in dict(retweetcount(Gjson)).items()},orient='index', columns = ['nretweets']).sort_index()\n",
    "    nfollowers = pd.DataFrame.from_dict({node: att['weight'] for node,att in G.nodes(data=True)},orient='index', columns = ['nfollowers']).sort_index()\n",
    "    NodeStats = pd.concat([in_degree,out_degree,degree,closeness,betweeness,ntweets,nretweets,nfollowers],axis=1)\n",
    "    NodeStats['virality'] = NodeStats['out_degree']/NodeStats['nfollowers']\n",
    "    NodeStats = NodeStats.sort_values(by='out_degree',ascending=False)\n",
    "    return NodeStats"
   ]
  },
  {
   "cell_type": "code",
   "execution_count": 407,
   "id": "718934bb-becd-4c2d-bcc6-4b7316becf35",
   "metadata": {},
   "outputs": [],
   "source": [
    "BTC_Stat = NodeStats(BTC,bitcoin)\n",
    "GPT_Stat = NodeStats(GPT,chatGPT)\n",
    "BRD_Stat = NodeStats(BRD,boredApeYachtClub)\n",
    "ENG_Stat = NodeStats(ENG,energy)\n",
    "ETH_Stat = NodeStats(ETH,eth)\n",
    "URA_Stat = NodeStats(URA,uranium)"
   ]
  },
  {
   "cell_type": "code",
   "execution_count": 353,
   "id": "e40c0179-9b2e-41f8-a57a-5dc6ff8dda22",
   "metadata": {},
   "outputs": [
    {
     "ename": "AttributeError",
     "evalue": "'function' object has no attribute 'loc'",
     "output_type": "error",
     "traceback": [
      "\u001b[1;31m---------------------------------------------------------------------------\u001b[0m",
      "\u001b[1;31mAttributeError\u001b[0m                            Traceback (most recent call last)",
      "Cell \u001b[1;32mIn[353], line 1\u001b[0m\n\u001b[1;32m----> 1\u001b[0m \u001b[43mNodeStats\u001b[49m\u001b[38;5;241;43m.\u001b[39;49m\u001b[43mloc\u001b[49m[NodeStats[\u001b[38;5;124m'\u001b[39m\u001b[38;5;124mout_degree\u001b[39m\u001b[38;5;124m'\u001b[39m]\u001b[38;5;241m>\u001b[39m\u001b[38;5;241m50\u001b[39m]\u001b[38;5;241m.\u001b[39mnlargest(\u001b[38;5;241m20\u001b[39m,\u001b[38;5;124m'\u001b[39m\u001b[38;5;124mvirality\u001b[39m\u001b[38;5;124m'\u001b[39m, keep\u001b[38;5;241m=\u001b[39m\u001b[38;5;124m'\u001b[39m\u001b[38;5;124mall\u001b[39m\u001b[38;5;124m'\u001b[39m)\n",
      "\u001b[1;31mAttributeError\u001b[0m: 'function' object has no attribute 'loc'"
     ]
    }
   ],
   "source": [
    "NodeStats.loc[NodeStats['out_degree']>50].nlargest(20,'virality', keep='all')"
   ]
  },
  {
   "cell_type": "code",
   "execution_count": 409,
   "id": "6bbe9c94-e387-4702-aa71-e384a2207e08",
   "metadata": {},
   "outputs": [
    {
     "name": "stderr",
     "output_type": "stream",
     "text": [
      "No artists with labels found to put in legend.  Note that artists whose label start with an underscore are ignored when legend() is called with no argument.\n"
     ]
    },
    {
     "data": {
      "text/plain": [
       "<matplotlib.legend.Legend at 0x1eee16b1460>"
      ]
     },
     "execution_count": 409,
     "metadata": {},
     "output_type": "execute_result"
    },
    {
     "data": {
      "image/png": "[encoded data removed]",
      "text/plain": [
       "<Figure size 640x480 with 1 Axes>"
      ]
     },
     "metadata": {},
     "output_type": "display_data"
    }
   ],
   "source": [
    "plt.scatter(BTC_Stat['nfollowers'],BTC_Stat['out_degree'],c='red')\n",
    "plt.scatter(GPT_Stat['nfollowers'],GPT_Stat['out_degree'],c='green')\n",
    "plt.scatter(ETH_Stat['nfollowers'],ETH_Stat['out_degree'],c='yellow')\n",
    "plt.scatter(BRD_Stat['nfollowers'],BRD_Stat['out_degree'],c='black')\n",
    "plt.scatter(URA_Stat['nfollowers'],URA_Stat['out_degree'],c='orange')\n",
    "plt.scatter(ENG_Stat['nfollowers'],ENG_Stat['out_degree'],c='blue')\n",
    "plt.legend()"
   ]
  },
  {
   "cell_type": "code",
   "execution_count": 371,
   "id": "ab26886d-ca8a-4ee6-a7c3-56f4aad15167",
   "metadata": {},
   "outputs": [],
   "source": [
    "int_nodes = BTC_Stat.index.intersection(GPT_Stat.index)"
   ]
  },
  {
   "cell_type": "code",
   "execution_count": 388,
   "id": "b4895107-6e6e-4950-a35c-f12a6d25c2f8",
   "metadata": {},
   "outputs": [],
   "source": [
    "abc = nx.weakly_connected_components(GPT)"
   ]
  },
  {
   "cell_type": "code",
   "execution_count": 389,
   "id": "1a2356cf-6549-4a4e-8558-d3f9498f4bae",
   "metadata": {},
   "outputs": [],
   "source": [
    "relevant_components = [component for component in abc if any(node in component for node in int_nodes)]"
   ]
  },
  {
   "cell_type": "raw",
   "id": "2b1c58f4-b94b-4370-ae00-ea10c8e1d378",
   "metadata": {},
   "source": [
    "relevant_components"
   ]
  },
  {
   "cell_type": "code",
   "execution_count": 391,
   "id": "c395d799-2129-49d9-aa3b-539b982113fb",
   "metadata": {},
   "outputs": [
    {
     "data": {
      "text/plain": [
       "Index(['VinodJason', 'GenxAnalytics', 'RunnymedeCap', 'Cryptogains9',\n",
       "       'JaniseMonroy', 'maximustechmxz', 'Satoshi_Talks', 'PrimaryDomain',\n",
       "       'block_delta', 'StarfighterGen', 'esatoshiclub', 'NFT_World_News',\n",
       "       'sonu_monika', 'bjeaglefeather', 'technicitymag', 'shehriyar_x2',\n",
       "       'charlotedaviis', '_CocoBot', 'Verdoux11', 'toudajew', 'uCloudifyAI',\n",
       "       'ahtuzhlobko', 'kush420pi', 'padagalpavan', 'kamsylove46',\n",
       "       'rahul05ranjan', 'kriptokafein', 'nebukenazzer3', 'saadameer310',\n",
       "       'domainhelpline', 'domainapebot', 'sayy_hassan', 'eStream_Studios',\n",
       "       'jahanerooni', 'inspiredmoneyfm', 'DibalaHo', 'HarryBee_Yhu',\n",
       "       'Amandam41927499', 'AlexaBlockchain', 'BubbleJunction', 'Sahil_BB7',\n",
       "       'TECHW1G', 'MOHAMMA28217447', 'Metilda_loisel'],\n",
       "      dtype='object')"
      ]
     },
     "execution_count": 391,
     "metadata": {},
     "output_type": "execute_result"
    }
   ],
   "source": [
    "int_nodes"
   ]
  },
  {
   "cell_type": "code",
   "execution_count": 410,
   "id": "2b09bc58-beb1-4129-9049-30e4b1d234db",
   "metadata": {},
   "outputs": [
    {
     "data": {
      "text/html": [
       "<div>\n",
       "<style scoped>\n",
       "    .dataframe tbody tr th:only-of-type {\n",
       "        vertical-align: middle;\n",
       "    }\n",
       "\n",
       "    .dataframe tbody tr th {\n",
       "        vertical-align: top;\n",
       "    }\n",
       "\n",
       "    .dataframe thead th {\n",
       "        text-align: right;\n",
       "    }\n",
       "</style>\n",
       "<table border=\"1\" class=\"dataframe\">\n",
       "  <thead>\n",
       "    <tr style=\"text-align: right;\">\n",
       "      <th></th>\n",
       "      <th>in_degree</th>\n",
       "      <th>out_degree</th>\n",
       "      <th>degree</th>\n",
       "      <th>closeness</th>\n",
       "      <th>betweeness</th>\n",
       "      <th>ntweets</th>\n",
       "      <th>nretweets</th>\n",
       "      <th>nfollowers</th>\n",
       "      <th>virality</th>\n",
       "    </tr>\n",
       "  </thead>\n",
       "  <tbody>\n",
       "    <tr>\n",
       "      <th>Ishansharma7390</th>\n",
       "      <td>0</td>\n",
       "      <td>294</td>\n",
       "      <td>294</td>\n",
       "      <td>0.000000</td>\n",
       "      <td>0.0</td>\n",
       "      <td>1.0</td>\n",
       "      <td>NaN</td>\n",
       "      <td>136398</td>\n",
       "      <td>0.002155</td>\n",
       "    </tr>\n",
       "    <tr>\n",
       "      <th>Whistle020</th>\n",
       "      <td>0</td>\n",
       "      <td>197</td>\n",
       "      <td>197</td>\n",
       "      <td>0.000000</td>\n",
       "      <td>0.0</td>\n",
       "      <td>2.0</td>\n",
       "      <td>NaN</td>\n",
       "      <td>10023</td>\n",
       "      <td>0.019655</td>\n",
       "    </tr>\n",
       "    <tr>\n",
       "      <th>johnvianny</th>\n",
       "      <td>0</td>\n",
       "      <td>155</td>\n",
       "      <td>155</td>\n",
       "      <td>0.000000</td>\n",
       "      <td>0.0</td>\n",
       "      <td>1.0</td>\n",
       "      <td>NaN</td>\n",
       "      <td>1357</td>\n",
       "      <td>0.114223</td>\n",
       "    </tr>\n",
       "    <tr>\n",
       "      <th>bepaitoken</th>\n",
       "      <td>0</td>\n",
       "      <td>126</td>\n",
       "      <td>126</td>\n",
       "      <td>0.000000</td>\n",
       "      <td>0.0</td>\n",
       "      <td>1.0</td>\n",
       "      <td>NaN</td>\n",
       "      <td>3877</td>\n",
       "      <td>0.032499</td>\n",
       "    </tr>\n",
       "    <tr>\n",
       "      <th>DataChaz</th>\n",
       "      <td>0</td>\n",
       "      <td>103</td>\n",
       "      <td>103</td>\n",
       "      <td>0.000000</td>\n",
       "      <td>0.0</td>\n",
       "      <td>13.0</td>\n",
       "      <td>1.0</td>\n",
       "      <td>62327</td>\n",
       "      <td>0.001653</td>\n",
       "    </tr>\n",
       "    <tr>\n",
       "      <th>...</th>\n",
       "      <td>...</td>\n",
       "      <td>...</td>\n",
       "      <td>...</td>\n",
       "      <td>...</td>\n",
       "      <td>...</td>\n",
       "      <td>...</td>\n",
       "      <td>...</td>\n",
       "      <td>...</td>\n",
       "      <td>...</td>\n",
       "    </tr>\n",
       "    <tr>\n",
       "      <th>Praveen06136792</th>\n",
       "      <td>1</td>\n",
       "      <td>0</td>\n",
       "      <td>1</td>\n",
       "      <td>0.000326</td>\n",
       "      <td>0.0</td>\n",
       "      <td>NaN</td>\n",
       "      <td>1.0</td>\n",
       "      <td>18</td>\n",
       "      <td>0.000000</td>\n",
       "    </tr>\n",
       "    <tr>\n",
       "      <th>Praveen43673603</th>\n",
       "      <td>1</td>\n",
       "      <td>0</td>\n",
       "      <td>1</td>\n",
       "      <td>0.000326</td>\n",
       "      <td>0.0</td>\n",
       "      <td>NaN</td>\n",
       "      <td>1.0</td>\n",
       "      <td>472</td>\n",
       "      <td>0.000000</td>\n",
       "    </tr>\n",
       "    <tr>\n",
       "      <th>President_Law_</th>\n",
       "      <td>1</td>\n",
       "      <td>0</td>\n",
       "      <td>1</td>\n",
       "      <td>0.000326</td>\n",
       "      <td>0.0</td>\n",
       "      <td>NaN</td>\n",
       "      <td>1.0</td>\n",
       "      <td>2090</td>\n",
       "      <td>0.000000</td>\n",
       "    </tr>\n",
       "    <tr>\n",
       "      <th>PrimaRudolph1</th>\n",
       "      <td>1</td>\n",
       "      <td>0</td>\n",
       "      <td>1</td>\n",
       "      <td>0.000326</td>\n",
       "      <td>0.0</td>\n",
       "      <td>NaN</td>\n",
       "      <td>1.0</td>\n",
       "      <td>0</td>\n",
       "      <td>NaN</td>\n",
       "    </tr>\n",
       "    <tr>\n",
       "      <th>0xRohhannn____</th>\n",
       "      <td>2</td>\n",
       "      <td>0</td>\n",
       "      <td>2</td>\n",
       "      <td>0.000653</td>\n",
       "      <td>0.0</td>\n",
       "      <td>NaN</td>\n",
       "      <td>2.0</td>\n",
       "      <td>177</td>\n",
       "      <td>0.000000</td>\n",
       "    </tr>\n",
       "  </tbody>\n",
       "</table>\n",
       "<p>3065 rows × 9 columns</p>\n",
       "</div>"
      ],
      "text/plain": [
       "                 in_degree  out_degree  degree  closeness  betweeness  \\\n",
       "Ishansharma7390          0         294     294   0.000000         0.0   \n",
       "Whistle020               0         197     197   0.000000         0.0   \n",
       "johnvianny               0         155     155   0.000000         0.0   \n",
       "bepaitoken               0         126     126   0.000000         0.0   \n",
       "DataChaz                 0         103     103   0.000000         0.0   \n",
       "...                    ...         ...     ...        ...         ...   \n",
       "Praveen06136792          1           0       1   0.000326         0.0   \n",
       "Praveen43673603          1           0       1   0.000326         0.0   \n",
       "President_Law_           1           0       1   0.000326         0.0   \n",
       "PrimaRudolph1            1           0       1   0.000326         0.0   \n",
       "0xRohhannn____           2           0       2   0.000653         0.0   \n",
       "\n",
       "                 ntweets  nretweets  nfollowers  virality  \n",
       "Ishansharma7390      1.0        NaN      136398  0.002155  \n",
       "Whistle020           2.0        NaN       10023  0.019655  \n",
       "johnvianny           1.0        NaN        1357  0.114223  \n",
       "bepaitoken           1.0        NaN        3877  0.032499  \n",
       "DataChaz            13.0        1.0       62327  0.001653  \n",
       "...                  ...        ...         ...       ...  \n",
       "Praveen06136792      NaN        1.0          18  0.000000  \n",
       "Praveen43673603      NaN        1.0         472  0.000000  \n",
       "President_Law_       NaN        1.0        2090  0.000000  \n",
       "PrimaRudolph1        NaN        1.0           0       NaN  \n",
       "0xRohhannn____       NaN        2.0         177  0.000000  \n",
       "\n",
       "[3065 rows x 9 columns]"
      ]
     },
     "execution_count": 410,
     "metadata": {},
     "output_type": "execute_result"
    }
   ],
   "source": [
    "GPT_Stat"
   ]
  },
  {
   "cell_type": "code",
   "execution_count": 417,
   "id": "7a395040-ca8d-40bd-a4ba-df046373e723",
   "metadata": {},
   "outputs": [],
   "source": [
    "def dataVs(hashtag):\n",
    "    date = [tweet['created_at'] for tweet in hashtag]\n",
    "    # Convert string to datetime objects\n",
    "    datetime_o = [datetime.strptime(date_s, '%a %b %d %H:%M:%S %z %Y') for date_s in daten]\n",
    "    print(max(datetime_o)-min(datetime_oe))\n",
    "    len(hashtag)\n"
   ]
  },
  {
   "cell_type": "code",
   "execution_count": 429,
   "id": "b8dde627-b91f-4ecd-92c3-296b6a0d9499",
   "metadata": {},
   "outputs": [],
   "source": [
    "daten = list(set(date))"
   ]
  },
  {
   "cell_type": "code",
   "execution_count": 430,
   "id": "2c6afec2-4242-4cae-b19e-ac118a1b44f5",
   "metadata": {},
   "outputs": [
    {
     "data": {
      "text/plain": [
       "list"
      ]
     },
     "execution_count": 430,
     "metadata": {},
     "output_type": "execute_result"
    }
   ],
   "source": [
    "type(daten)"
   ]
  },
  {
   "cell_type": "code",
   "execution_count": 436,
   "id": "e1c34b54-60e6-4758-b4af-3f5653927df4",
   "metadata": {},
   "outputs": [
    {
     "ename": "TypeError",
     "evalue": "unsupported operand type(s) for -: 'str' and 'str'",
     "output_type": "error",
     "traceback": [
      "\u001b[1;31m---------------------------------------------------------------------------\u001b[0m",
      "\u001b[1;31mTypeError\u001b[0m                                 Traceback (most recent call last)",
      "Cell \u001b[1;32mIn[436], line 1\u001b[0m\n\u001b[1;32m----> 1\u001b[0m \u001b[38;5;28;43mmax\u001b[39;49m\u001b[43m(\u001b[49m\u001b[43mdaten\u001b[49m\u001b[43m)\u001b[49m\u001b[38;5;241;43m-\u001b[39;49m\u001b[38;5;28;43mmin\u001b[39;49m\u001b[43m(\u001b[49m\u001b[43mdaten\u001b[49m\u001b[43m)\u001b[49m\n",
      "\u001b[1;31mTypeError\u001b[0m: unsupported operand type(s) for -: 'str' and 'str'"
     ]
    }
   ],
   "source": [
    "max(daten)"
   ]
  },
  {
   "cell_type": "code",
   "execution_count": 445,
   "id": "0aa41613-bdeb-480c-95bc-71602128f346",
   "metadata": {},
   "outputs": [],
   "source": [
    "# Convert string to datetime objects\n",
    "datetime_objects = [datetime.strptime(date_str, '%a %b %d %H:%M:%S %z %Y') for date_str in daten]\n",
    "\n",
    "# Example: Sorting the datetime objects\n",
    "sorted_datetime_objects = sorted(datetime_objects)"
   ]
  },
  {
   "cell_type": "code",
   "execution_count": 453,
   "id": "e2655d2f-e5c8-40f9-b6a2-bab0d6ca3a81",
   "metadata": {},
   "outputs": [],
   "source": [
    "adf = max(datetime_objects)-min(datetime_objects)"
   ]
  },
  {
   "cell_type": "code",
   "execution_count": 451,
   "id": "e00c13fa-a536-48f6-8ede-e8ae9bb28868",
   "metadata": {},
   "outputs": [
    {
     "data": {
      "text/plain": [
       "datetime.datetime(2023, 2, 7, 20, 42, 13, tzinfo=datetime.timezone.utc)"
      ]
     },
     "execution_count": 451,
     "metadata": {},
     "output_type": "execute_result"
    }
   ],
   "source": [
    "max(datetime_objects)"
   ]
  },
  {
   "cell_type": "code",
   "execution_count": 452,
   "id": "be2c2cd9-4b37-4f9c-ae4d-6f683b078d46",
   "metadata": {},
   "outputs": [
    {
     "data": {
      "text/plain": [
       "datetime.datetime(2023, 2, 6, 3, 13, 45, tzinfo=datetime.timezone.utc)"
      ]
     },
     "execution_count": 452,
     "metadata": {},
     "output_type": "execute_result"
    }
   ],
   "source": [
    "min(datetime_objects)"
   ]
  },
  {
   "cell_type": "code",
   "execution_count": 455,
   "id": "d61fe48e-bfac-4c54-be0d-fe299e5c356b",
   "metadata": {},
   "outputs": [
    {
     "data": {
      "text/plain": [
       "datetime.timedelta"
      ]
     },
     "execution_count": 455,
     "metadata": {},
     "output_type": "execute_result"
    }
   ],
   "source": [
    "type(adf)"
   ]
  },
  {
   "cell_type": "code",
   "execution_count": 456,
   "id": "5712b931-24f9-4eea-a935-531ee4fcf349",
   "metadata": {},
   "outputs": [
    {
     "data": {
      "text/plain": [
       "4139"
      ]
     },
     "execution_count": 456,
     "metadata": {},
     "output_type": "execute_result"
    }
   ],
   "source": [
    "len(datetime_objects)"
   ]
  },
  {
   "cell_type": "code",
   "execution_count": 461,
   "id": "0839fba6-4139-4ef2-8c0f-3c48475ac091",
   "metadata": {},
   "outputs": [
    {
     "data": {
      "text/plain": [
       "datetime.timedelta(seconds=29861, microseconds=600000)"
      ]
     },
     "execution_count": 461,
     "metadata": {},
     "output_type": "execute_result"
    }
   ],
   "source": [
    "adf / int(len(5"
   ]
  },
  {
   "cell_type": "code",
   "execution_count": 460,
   "id": "08d23a82-8acc-4170-9a8e-95c59eeb686b",
   "metadata": {},
   "outputs": [
    {
     "data": {
      "text/plain": [
       "datetime.timedelta(days=1, seconds=62908)"
      ]
     },
     "execution_count": 460,
     "metadata": {},
     "output_type": "execute_result"
    }
   ],
   "source": [
    "adf"
   ]
  },
  {
   "cell_type": "code",
   "execution_count": 463,
   "id": "e26d0d9a-74ff-4190-8e35-bdaff510b4b7",
   "metadata": {},
   "outputs": [
    {
     "data": {
      "text/plain": [
       "datetime.timedelta(seconds=29, microseconds=861600)"
      ]
     },
     "execution_count": 463,
     "metadata": {},
     "output_type": "execute_result"
    }
   ],
   "source": [
    "adf / len(chatGPT)"
   ]
  },
  {
   "cell_type": "code",
   "execution_count": null,
   "id": "8d146f4d-ab29-44f6-a720-444f302e6e44",
   "metadata": {},
   "outputs": [],
   "source": []
  }
 ],
 "metadata": {
  "kernelspec": {
   "display_name": "Python 3 (ipykernel)",
   "language": "python",
   "name": "python3"
  },
  "language_info": {
   "codemirror_mode": {
    "name": "ipython",
    "version": 3
   },
   "file_extension": ".py",
   "mimetype": "text/x-python",
   "name": "python",
   "nbconvert_exporter": "python",
   "pygments_lexer": "ipython3",
   "version": "3.8.15"
  },
  "toc-autonumbering": true,
  "toc-showmarkdowntxt": false
 },
 "nbformat": 4,
 "nbformat_minor": 5
}
